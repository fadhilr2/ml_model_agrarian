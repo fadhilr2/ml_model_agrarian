{
 "cells": [
  {
   "cell_type": "code",
   "execution_count": null,
   "id": "5b148367",
   "metadata": {},
   "outputs": [],
   "source": [
    "unique_key_areas = [\n",
    "    {\"name\": \"Wonosobo\", \"lat\": -7.2950, \"lon\": 109.9050},\n",
    "    {\"name\": \"Garut\", \"lat\": -7.2880, \"lon\": 107.8600},\n",
    "    {\"name\": \"Batu\", \"lat\": -7.8750, \"lon\": 112.5560},\n",
    "    {\"name\": \"Lembang\", \"lat\": -6.8000, \"lon\": 107.6300},\n",
    "    {\"name\": \"Cianjur\", \"lat\": -6.8500, \"lon\": 107.1000},\n",
    "    {\"name\": \"Malang\", \"lat\": -8.0500, \"lon\": 112.6300},\n",
    "    {\"name\": \"Lombok Timur\", \"lat\": -8.4500, \"lon\": 116.5200},\n",
    "    {\"name\": \"Cirebon\", \"lat\": -6.8200, \"lon\": 108.5600},\n",
    "    {\"name\": \"Manado\", \"lat\": 1.4000, \"lon\": 124.9000},\n",
    "    {\"name\": \"Ambon\", \"lat\": -3.6500, \"lon\": 128.1750},\n",
    "    {\"name\": \"Ternate\", \"lat\": 0.8200, \"lon\": 127.3450},\n",
    "    {\"name\": \"Lampung\", \"lat\": -5.3500, \"lon\": 105.1800},\n",
    "    {\"name\": \"Bangka\", \"lat\": -2.2500, \"lon\": 106.0500},\n",
    "    {\"name\": \"Belitung\", \"lat\": -2.7500, \"lon\": 107.7500},\n",
    "    {\"name\": \"Kerinci\", \"lat\": -2.0850, \"lon\": 101.4800},\n",
    "    {\"name\": \"Solok\", \"lat\": -0.8300, \"lon\": 100.7500},\n",
    "    {\"name\": \"Pasaman\", \"lat\": 0.0500, \"lon\": 100.0000},\n",
    "    {\"name\": \"Bali\", \"lat\": -8.3500, \"lon\": 115.2100},\n",
    "    {\"name\": \"Papua\", \"lat\": -4.5000, \"lon\": 138.5000},\n",
    "    {\"name\": \"Sumba\", \"lat\": -9.7000, \"lon\": 119.5000},\n",
    "    {\"name\": \"Bandung\", \"lat\": -7.0500, \"lon\": 107.5500},\n",
    "    {\"name\": \"Brebes\", \"lat\": -7.0350, \"lon\": 109.0400},\n",
    "    {\"name\": \"Enrekang\", \"lat\": -3.4500, \"lon\": 119.8500},\n",
    "    {\"name\": \"Karo\", \"lat\": 3.1900, \"lon\": 98.5000},\n",
    "    {\"name\": \"Nganjuk\", \"lat\": -7.6500, \"lon\": 111.8500},\n",
    "    {\"name\": \"Puncak\", \"lat\": -3.7500, \"lon\": 137.5000}\n",
    "]\n",
    "\n"
   ]
  },
  {
   "cell_type": "code",
   "execution_count": null,
   "id": "4f81c954",
   "metadata": {},
   "outputs": [],
   "source": [
    "import pandas as pd\n",
    "from numpy.random import randint\n",
    "import requests\n",
    "from soiltexture import getTexture\n",
    "import time"
   ]
  },
  {
   "cell_type": "code",
   "execution_count": null,
   "id": "de3aad4c",
   "metadata": {},
   "outputs": [],
   "source": [
    "df = pd.read_csv(\"./soil_data.csv\")"
   ]
  },
  {
   "cell_type": "code",
   "execution_count": null,
   "id": "e26bf481",
   "metadata": {},
   "outputs": [],
   "source": [
    "# DATA FETCH\n",
    "for i in range(len(unique_key_areas)):\n",
    "  df.loc[i, \"area\"] = unique_key_areas[i][\"name\"]\n",
    "  LAT = unique_key_areas[i][\"lat\"]\n",
    "  LON = unique_key_areas[i][\"lon\"]\n",
    "\n",
    "  try:\n",
    "\n",
    "    soil_properties = requests.get(\n",
    "        f'https://rest.isric.org/soilgrids/v2.0/properties/query?lon={LON}&lat={LAT}&property=clay&property=sand&depth=0-5cm&value=mean')\n",
    "    soil_properties = soil_properties.json()\n",
    "    soil_properties[\"properties\"]\n",
    "  except:\n",
    "    time.sleep(60)\n",
    "    soil_properties = requests.get(\n",
    "      f'https://rest.isric.org/soilgrids/v2.0/properties/query?lon={LON}&lat={LAT}&property=clay&property=sand&depth=0-5cm&value=mean')\n",
    "    soil_properties = soil_properties.json()    \n",
    "  \n",
    "\n",
    "  clay = 0\n",
    "  sand = 0\n",
    "  for layer in soil_properties[\"properties\"][\"layers\"]:\n",
    "    d_factor = layer[\"unit_measure\"][\"d_factor\"]\n",
    "    value = layer[\"depths\"][0][\"values\"][\"mean\"]\n",
    "    ratio = value / d_factor\n",
    "\n",
    "    if(layer[\"name\"] == \"clay\"):\n",
    "      clay = ratio\n",
    "    elif(layer[\"name\"] == \"sand\"):\n",
    "      sand = ratio\n",
    "    \n",
    "  df.loc[i, \"soil_texture\"] = str(getTexture(sand, clay))\n",
    "\n",
    "df.to_csv(\"soil_data.csv\", index=False)\n",
    "\n",
    "  "
   ]
  }
 ],
 "metadata": {
  "kernelspec": {
   "display_name": "Python 3",
   "language": "python",
   "name": "python3"
  },
  "language_info": {
   "codemirror_mode": {
    "name": "ipython",
    "version": 3
   },
   "file_extension": ".py",
   "mimetype": "text/x-python",
   "name": "python",
   "nbconvert_exporter": "python",
   "pygments_lexer": "ipython3",
   "version": "3.12.4"
  }
 },
 "nbformat": 4,
 "nbformat_minor": 5
}
