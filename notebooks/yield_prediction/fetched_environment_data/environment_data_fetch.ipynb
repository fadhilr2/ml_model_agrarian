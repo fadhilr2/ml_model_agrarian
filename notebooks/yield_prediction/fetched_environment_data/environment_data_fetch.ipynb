{
 "cells": [
  {
   "cell_type": "code",
   "execution_count": null,
   "id": "0a5bafc0",
   "metadata": {},
   "outputs": [],
   "source": [
    "# NASA POWER API FETCH PARAMETER \n",
    "\n",
    "unique_key_areas = [\n",
    "    {'name': 'Wonosobo', 'lat': -7.3614, 'lon': 109.9267},\n",
    "    {'name': 'Garut', 'lat': -7.2286, 'lon': 107.8186},\n",
    "    {'name': 'Batu', 'lat': -7.8684, 'lon': 112.5251},\n",
    "    {'name': 'Lembang', 'lat': -6.8125, 'lon': 107.6121},\n",
    "    {'name': 'Cianjur', 'lat': -6.822, 'lon': 107.1421},\n",
    "    {'name': 'Malang', 'lat': -7.9819, 'lon': 112.6265},\n",
    "    {'name': 'Lombok Timur', 'lat': -8.528, 'lon': 116.635},\n",
    "    {'name': 'Cirebon', 'lat': -6.7231, 'lon': 108.552},\n",
    "    {'name': 'Manado', 'lat': 1.4748, 'lon': 124.8428},\n",
    "    {'name': 'Ambon', 'lat': -3.7, 'lon': 128.1667},\n",
    "    {'name': 'Ternate', 'lat': 0.79, 'lon': 127.39},\n",
    "    {'name': 'Lampung', 'lat': -5.45, 'lon': 105.2667},\n",
    "    {'name': 'Bangka', 'lat': -2.1667, 'lon': 106.1333},\n",
    "    {'name': 'Belitung', 'lat': -2.85, 'lon': 107.95},\n",
    "    {'name': 'Kerinci', 'lat': -1.693, 'lon': 101.264},\n",
    "    {'name': 'Solok', 'lat': -0.8, 'lon': 100.6667},\n",
    "    {'name': 'Pasaman', 'lat': 0.0, 'lon': 99.95},\n",
    "    {'name': 'Bali', 'lat': -8.4095, 'lon': 115.1889},\n",
    "    {'name': 'Papua', 'lat': -4.2699, 'lon': 138.0804},\n",
    "    {'name': 'Sumba', 'lat': -9.65, 'lon': 119.75},\n",
    "    {'name': 'Bandung', 'lat': -6.914744, 'lon': 107.609810},\n",
    "    {'name': 'Brebes', 'lat': -6.892344, 'lon': 109.026947},\n",
    "    {'name': 'Enrekang', 'lat': -3.57, 'lon': 119.78},\n",
    "    {'name': 'Karo', 'lat': 3.12, 'lon': 98.3},\n",
    "    {'name': 'Nganjuk', 'lat': -7.6, 'lon': 111.94},\n",
    "    {'name': 'Puncak', 'lat': -3.62, 'lon': 137.4}\n",
    "]\n",
    "\n"
   ]
  },
  {
   "cell_type": "code",
   "execution_count": null,
   "id": "4cec7caa",
   "metadata": {},
   "outputs": [],
   "source": [
    "import pandas as pd\n",
    "import time"
   ]
  },
  {
   "cell_type": "code",
   "execution_count": null,
   "id": "9238550b",
   "metadata": {},
   "outputs": [],
   "source": [
    "#FETCH EXAMPLE\n",
    "\n",
    "df = pd.read_csv(f'https://power.larc.nasa.gov/api/temporal/daily/point?start=19840101&end=20231231&latitude=-9.65&longitude=119.75&community=ag&parameters=T2M_MAX%2CT2M_MIN%2CPRECTOTCORR%2CGWETROOT%2CALLSKY_SFC_PAR_TOT&format=csv&header=false')\n",
    "df.to_csv(\"Sumba.csv\", index=False)\n"
   ]
  },
  {
   "cell_type": "code",
   "execution_count": null,
   "id": "a1694eac",
   "metadata": {},
   "outputs": [],
   "source": [
    "for i in range(len(unique_key_areas)):\n",
    "  LA = str(unique_key_areas[i][\"lat\"])\n",
    "  LO = str(unique_key_areas[i][\"lon\"])\n",
    "  print(\"fetching \" + unique_key_areas[i][\"name\"])\n",
    "  try:\n",
    "    df = pd.read_csv(f'https://power.larc.nasa.gov/api/temporal/daily/point?start=19840101&end=20231231&latitude={LA}&longitude={LO}&community=ag&parameters=T2M_MAX%2CT2M_MIN%2CPRECTOTCORR%2CGWETROOT%2CALLSKY_SFC_PAR_TOT&format=csv&header=false')\n",
    "  except:\n",
    "    time.sleep(120)\n",
    "    df = pd.read_csv(f'https://power.larc.nasa.gov/api/temporal/daily/point?start=19840101&end=20231231&latitude={LA}&longitude={LO}&community=ag&parameters=T2M_MAX%2CT2M_MIN%2CPRECTOTCORR%2CGWETROOT%2CALLSKY_SFC_PAR_TOT&format=csv&header=false')\n",
    "\n",
    "  print(\"printing\")\n",
    "  df.to_csv(unique_key_areas[i][\"name\"] + \".csv\", index=False)\n",
    "  print(\"done\")\n",
    "\n"
   ]
  }
 ],
 "metadata": {
  "kernelspec": {
   "display_name": "Python 3",
   "language": "python",
   "name": "python3"
  },
  "language_info": {
   "codemirror_mode": {
    "name": "ipython",
    "version": 3
   },
   "file_extension": ".py",
   "mimetype": "text/x-python",
   "name": "python",
   "nbconvert_exporter": "python",
   "pygments_lexer": "ipython3",
   "version": "3.12.4"
  }
 },
 "nbformat": 4,
 "nbformat_minor": 5
}
